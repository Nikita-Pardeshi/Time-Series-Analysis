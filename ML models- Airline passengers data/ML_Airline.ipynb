{
 "cells": [
  {
   "cell_type": "markdown",
   "metadata": {},
   "source": [
    "Import necessary libraries"
   ]
  },
  {
   "cell_type": "code",
   "execution_count": 34,
   "metadata": {},
   "outputs": [],
   "source": [
    "import pandas as pd\n",
    "import numpy as np\n",
    "import matplotlib.pyplot as plt\n",
    "\n",
    "#import models\n",
    "from sklearn.linear_model import LinearRegression, SGDRegressor, ElasticNet\n",
    "from sklearn.svm import SVR\n",
    "from sklearn.ensemble import RandomForestRegressor\n",
    "\n",
    "from sklearn.metrics import mean_absolute_percentage_error, r2_score\n",
    "\n",
    "import random\n",
    "random.seed(2022)"
   ]
  },
  {
   "cell_type": "code",
   "execution_count": 35,
   "metadata": {},
   "outputs": [],
   "source": [
    "# Read the airlines data frame and set index as Month\n",
    "df = pd.read_csv('airline_passengers.csv', index_col='Month', parse_dates=True)"
   ]
  },
  {
   "cell_type": "markdown",
   "metadata": {},
   "source": [
    "### Differencing the Time Series"
   ]
  },
  {
   "cell_type": "code",
   "execution_count": 36,
   "metadata": {},
   "outputs": [
    {
     "data": {
      "text/html": [
       "<div>\n",
       "<style scoped>\n",
       "    .dataframe tbody tr th:only-of-type {\n",
       "        vertical-align: middle;\n",
       "    }\n",
       "\n",
       "    .dataframe tbody tr th {\n",
       "        vertical-align: top;\n",
       "    }\n",
       "\n",
       "    .dataframe thead th {\n",
       "        text-align: right;\n",
       "    }\n",
       "</style>\n",
       "<table border=\"1\" class=\"dataframe\">\n",
       "  <thead>\n",
       "    <tr style=\"text-align: right;\">\n",
       "      <th></th>\n",
       "      <th>Passengers</th>\n",
       "      <th>LogPassengers</th>\n",
       "      <th>DiffLogPassengers</th>\n",
       "    </tr>\n",
       "    <tr>\n",
       "      <th>Month</th>\n",
       "      <th></th>\n",
       "      <th></th>\n",
       "      <th></th>\n",
       "    </tr>\n",
       "  </thead>\n",
       "  <tbody>\n",
       "    <tr>\n",
       "      <th>1949-01-01</th>\n",
       "      <td>112</td>\n",
       "      <td>4.718499</td>\n",
       "      <td>NaN</td>\n",
       "    </tr>\n",
       "    <tr>\n",
       "      <th>1949-02-01</th>\n",
       "      <td>118</td>\n",
       "      <td>4.770685</td>\n",
       "      <td>0.052186</td>\n",
       "    </tr>\n",
       "    <tr>\n",
       "      <th>1949-03-01</th>\n",
       "      <td>132</td>\n",
       "      <td>4.882802</td>\n",
       "      <td>0.112117</td>\n",
       "    </tr>\n",
       "    <tr>\n",
       "      <th>1949-04-01</th>\n",
       "      <td>129</td>\n",
       "      <td>4.859812</td>\n",
       "      <td>-0.022990</td>\n",
       "    </tr>\n",
       "    <tr>\n",
       "      <th>1949-05-01</th>\n",
       "      <td>121</td>\n",
       "      <td>4.795791</td>\n",
       "      <td>-0.064022</td>\n",
       "    </tr>\n",
       "  </tbody>\n",
       "</table>\n",
       "</div>"
      ],
      "text/plain": [
       "            Passengers  LogPassengers  DiffLogPassengers\n",
       "Month                                                   \n",
       "1949-01-01         112       4.718499                NaN\n",
       "1949-02-01         118       4.770685           0.052186\n",
       "1949-03-01         132       4.882802           0.112117\n",
       "1949-04-01         129       4.859812          -0.022990\n",
       "1949-05-01         121       4.795791          -0.064022"
      ]
     },
     "execution_count": 36,
     "metadata": {},
     "output_type": "execute_result"
    }
   ],
   "source": [
    "#taking log difference of the time series \n",
    "df['LogPassengers'] = np.log(df['Passengers'])\n",
    "df['DiffLogPassengers'] = df['LogPassengers'].diff()\n",
    "df.head()"
   ]
  },
  {
   "cell_type": "code",
   "execution_count": 37,
   "metadata": {},
   "outputs": [],
   "source": [
    "#dividing data set into train and test sets. We keep only the last 12 values for the test set and remaining for the train set. \n",
    "Ntest = 12\n",
    "train = df.iloc[:-Ntest]\n",
    "test = df.iloc[-Ntest:]"
   ]
  },
  {
   "cell_type": "markdown",
   "metadata": {},
   "source": [
    "## Function to convert Time Series Data to a supervised dataset"
   ]
  },
  {
   "cell_type": "code",
   "execution_count": 38,
   "metadata": {},
   "outputs": [
    {
     "name": "stdout",
     "output_type": "stream",
     "text": [
      "X.shape (131, 12) Y.shape (131,)\n"
     ]
    }
   ],
   "source": [
    "def time_series_to_supervised(data, n_in=1, n_out=1, dropnan=True): #by default the function takes the previous value at time t-1 and predicts the next prediction at t+1 unless specified. \n",
    "\tn_vars = 1 \n",
    "\tdf = pd.DataFrame(data)\n",
    "\tcols, col_names= list(), list()\n",
    "\t\n",
    "\t# input sequence (t-n, ... t-1)\n",
    "\tfor i in range(n_in, 0, -1):\n",
    "\t\tcols.append(df.shift(i))\n",
    "\t\tcol_names += [('x%d(t-%d)' % (j+1, i)) for j in range(n_vars)]\n",
    "\t\t\n",
    "\t# forecast sequence (t, t+1, ... t+n)\n",
    "\tfor i in range(0, n_out):\n",
    "\t\t\n",
    "\t\tcols.append(df.shift(-i))\n",
    "\t\tif i == 0:\n",
    "\t\t\tcol_names += [('y%d(t)' % (j+1)) for j in range(n_vars)]\n",
    "\t\telse:\n",
    "\t\t\tcol_names += [('y%d(t+%d)' % (j+1, i)) for j in range(n_vars)]\n",
    "\t\n",
    "\t# put it all together\n",
    "\tagg = pd.concat(cols, axis=1)\n",
    "\tagg.columns= col_names\n",
    "\t\n",
    "\n",
    "\t# drop rows with NaN values\n",
    "\tif dropnan:\n",
    "\t\tagg.dropna(inplace=True)\n",
    "\n",
    "\treturn agg\n",
    "\n",
    "\n",
    "series= df['DiffLogPassengers'].to_numpy()\n",
    "\n",
    "#defining parameters for one step forecast\n",
    "lags= 12\n",
    "\n",
    "supervised_df = time_series_to_supervised(series, lags) #second parameter specifies the number of inputs as X (t-1, t-2,.... t-lags)\n",
    "\n",
    "#building an array for the target variable from the above supervised time series data frame \n",
    "Y= supervised_df.iloc[:, -1].to_numpy()\n",
    "\n",
    "#remove the target column to simply combine the input columns into a single array\n",
    "supervised_df =supervised_df.drop(supervised_df.columns[-1],axis=1)\n",
    "\n",
    "X= supervised_df.values\n",
    "\n",
    "print(\"X.shape\", X.shape, \"Y.shape\", Y.shape)"
   ]
  },
  {
   "cell_type": "code",
   "execution_count": 39,
   "metadata": {},
   "outputs": [
    {
     "name": "stdout",
     "output_type": "stream",
     "text": [
      "X.shape (119, 12) (12, 12) \n",
      "Y.shape (119,) (12,)\n"
     ]
    }
   ],
   "source": [
    "#divide the data set into train and test sets\n",
    "Xtrain, Ytrain = X[:-Ntest], Y[:-Ntest]\n",
    "Xtest, Ytest = X[-Ntest:], Y[-Ntest:]\n",
    "\n",
    "print(\"X.shape\", Xtrain.shape, Xtest.shape,\"\\nY.shape\", Ytrain.shape, Ytest.shape)"
   ]
  },
  {
   "cell_type": "markdown",
   "metadata": {},
   "source": [
    "# Linear Regression based forecast"
   ]
  },
  {
   "cell_type": "code",
   "execution_count": 40,
   "metadata": {},
   "outputs": [
    {
     "name": "stdout",
     "output_type": "stream",
     "text": [
      "Train accuracy:  0.8602836107633467\n",
      "Test accuracy:  0.8259209649468484\n"
     ]
    }
   ],
   "source": [
    "lr = LinearRegression()\n",
    "lr.fit(Xtrain, Ytrain)\n",
    "print('Train accuracy: ', lr.score(Xtrain, Ytrain))\n",
    "print('Test accuracy: ', lr.score(Xtest, Ytest))"
   ]
  },
  {
   "cell_type": "markdown",
   "metadata": {},
   "source": [
    "We can see that the R2 scores for both train and test sets are not that great"
   ]
  },
  {
   "cell_type": "code",
   "execution_count": 41,
   "metadata": {},
   "outputs": [],
   "source": [
    "# Boolean index- create indexing to address train and test sets\n",
    "train_idx = df.index <= train.index[-1]\n",
    "test_idx = ~train_idx\n",
    "\n",
    "train_idx[:lags+1] = False # first lag+1 values are not predictable"
   ]
  },
  {
   "cell_type": "code",
   "execution_count": 42,
   "metadata": {},
   "outputs": [],
   "source": [
    "#Reverse the differencing operation to get the data back to original format\n",
    "df['ShiftLogPassengers'] = df['LogPassengers'].shift(1)\n",
    "prev = df['ShiftLogPassengers']"
   ]
  },
  {
   "cell_type": "markdown",
   "metadata": {},
   "source": [
    "# 1-step forecast"
   ]
  },
  {
   "cell_type": "code",
   "execution_count": 43,
   "metadata": {},
   "outputs": [],
   "source": [
    "# 1-step forecast\n",
    "df.loc[train_idx, 'LR_1step_train'] = prev[train_idx] + lr.predict(Xtrain)\n",
    "df.loc[test_idx, 'LR_1step_test'] = prev[test_idx] + lr.predict(Xtest)"
   ]
  },
  {
   "cell_type": "code",
   "execution_count": 44,
   "metadata": {},
   "outputs": [
    {
     "data": {
      "image/png": "[encoded data removed]",
      "text/plain": [
       "<Figure size 1080x360 with 1 Axes>"
      ]
     },
     "metadata": {
      "needs_background": "light"
     },
     "output_type": "display_data"
    }
   ],
   "source": [
    "# plot 1-step forecast\n",
    "df[['LogPassengers', 'LR_1step_train', 'LR_1step_test']].plot(figsize=(15, 5));"
   ]
  },
  {
   "cell_type": "markdown",
   "metadata": {},
   "source": [
    "## Performing One-Step Forecast with N other models from sklearn package"
   ]
  },
  {
   "cell_type": "code",
   "execution_count": 45,
   "metadata": {},
   "outputs": [],
   "source": [
    "#PREPROCESSING AND TRAIN TEST SPLIT\n",
    "\n",
    "\n",
    "def preprocessing(data_series, target_column, lags=1, n_forecast= 1): \n",
    "\t#default values for the lags and n_forecast is set to 1\n",
    "\t#taking log difference of the time series \n",
    "\tdata_series['Log'+target_column] = np.log(data_series[target_column])\n",
    "\tdata_series['DiffLog'+target_column] = data_series['Log'+target_column].diff()\n",
    "\n",
    "\t#we will work with the differenced time series data\n",
    "\tseries= data_series['DiffLog'+target_column].to_numpy()\n",
    "\n",
    "\t#Convert the time series input data to a supervised dataframe for ML models\\\n",
    "\t#second parameter specifies the number of inputs as X (t-1, t-2,.... t-lags)\n",
    "\tsupervised_df = time_series_to_supervised(series, lags, n_forecast) \n",
    "\tprint(supervised_df.head())\n",
    "\n",
    "\t# Setting the input data \n",
    "\tX= supervised_df.iloc[:, 0:lags].to_numpy()\n",
    "\tprint(X)\n",
    "\n",
    "\t#building an array for the target variable from the above supervised time series data frame \n",
    "\tY= supervised_df.iloc[:, lags:].to_numpy()\n",
    "\tprint(Y)\n",
    "\n",
    "\t#divide the data set into train and test sets\n",
    "\tXtrain, Ytrain = X[:-Ntest], Y[:-Ntest]\n",
    "\tXtest, Ytest = X[-Ntest:], Y[-Ntest:]\n",
    "\n",
    "\tprint(\"X.shape\", Xtrain.shape, Xtest.shape,\"\\nY.shape\", Ytrain.shape, Ytest.shape)\n",
    "\treturn Xtrain, Ytrain, Xtest, Ytest\n",
    "\n",
    "#CONVERT TIME SERIES DATA TO A SUPERVISED DATA FRAME\n",
    "\n",
    "def time_series_to_supervised(data, n_in=1, n_out=1, dropnan=True): #by default the function takes the previous value at time t-1 and predicts the next prediction at t+1 unless specified. \n",
    "\tn_vars = 1 \n",
    "\tdf = pd.DataFrame(data)\n",
    "\tcols, col_names= list(), list()\n",
    "\t\n",
    "\t# input sequence (t-n, ... t-1)\n",
    "\tfor i in range(n_in, 0, -1):\n",
    "\t\tcols.append(df.shift(i))\n",
    "\t\tcol_names += [('x%d(t-%d)' % (j+1, i)) for j in range(n_vars)]\n",
    "\t\t\n",
    "\t# forecast sequence (t, t+1, ... t+n)\n",
    "\tfor i in range(0, n_out):\n",
    "\t\tcols.append(df.shift(-i))\n",
    "\t\tif i == 0:\n",
    "\t\t\tcol_names += [('y%d(t)' % (j+1)) for j in range(n_vars)]\n",
    "\t\telse:\n",
    "\t\t\tcol_names += [('y%d(t+%d)' % (j+1, i)) for j in range(n_vars)]\n",
    "\t\n",
    "\t# put it all together\n",
    "\tagg = pd.concat(cols, axis=1)\n",
    "\tagg.columns= col_names\n",
    "\t\n",
    "\n",
    "\t# drop rows with NaN values\n",
    "\tif dropnan:\n",
    "\t\tagg.dropna(inplace=True)\n",
    "\n",
    "\tprint(agg.head())\n",
    "\n",
    "\treturn agg\n",
    "\n"
   ]
  },
  {
   "cell_type": "code",
   "execution_count": 46,
   "metadata": {},
   "outputs": [
    {
     "name": "stdout",
     "output_type": "stream",
     "text": [
      "    x1(t-10)   x1(t-9)   x1(t-8)   x1(t-7)   x1(t-6)   x1(t-5)   x1(t-4)  \\\n",
      "11 -0.600575  0.227111 -0.428391  0.412981 -0.067686  0.318939 -0.031999   \n",
      "12  0.227111 -0.428391  0.412981 -0.067686  0.318939 -0.031999 -0.152222   \n",
      "13 -0.428391  0.412981 -0.067686  0.318939 -0.031999 -0.152222 -0.450282   \n",
      "14  0.412981 -0.067686  0.318939 -0.031999 -0.152222 -0.450282  1.007227   \n",
      "15 -0.067686  0.318939 -0.031999 -0.152222 -0.450282  1.007227 -0.593389   \n",
      "\n",
      "     x1(t-3)   x1(t-2)   x1(t-1)     y1(t)  \n",
      "11 -0.152222 -0.450282  1.007227 -0.593389  \n",
      "12 -0.450282  1.007227 -0.593389  0.044194  \n",
      "13  1.007227 -0.593389  0.044194 -0.262107  \n",
      "14 -0.593389  0.044194 -0.262107  0.340287  \n",
      "15  0.044194 -0.262107  0.340287  0.262986  \n",
      "    x1(t-10)   x1(t-9)   x1(t-8)   x1(t-7)   x1(t-6)   x1(t-5)   x1(t-4)  \\\n",
      "11 -0.600575  0.227111 -0.428391  0.412981 -0.067686  0.318939 -0.031999   \n",
      "12  0.227111 -0.428391  0.412981 -0.067686  0.318939 -0.031999 -0.152222   \n",
      "13 -0.428391  0.412981 -0.067686  0.318939 -0.031999 -0.152222 -0.450282   \n",
      "14  0.412981 -0.067686  0.318939 -0.031999 -0.152222 -0.450282  1.007227   \n",
      "15 -0.067686  0.318939 -0.031999 -0.152222 -0.450282  1.007227 -0.593389   \n",
      "\n",
      "     x1(t-3)   x1(t-2)   x1(t-1)     y1(t)  \n",
      "11 -0.152222 -0.450282  1.007227 -0.593389  \n",
      "12 -0.450282  1.007227 -0.593389  0.044194  \n",
      "13  1.007227 -0.593389  0.044194 -0.262107  \n",
      "14 -0.593389  0.044194 -0.262107  0.340287  \n",
      "15  0.044194 -0.262107  0.340287  0.262986  \n",
      "[[-0.60057485  0.227111   -0.42839112  0.4129808  -0.06768638  0.31893918\n",
      "  -0.03199922 -0.15222233 -0.45028237  1.00722713]\n",
      " [ 0.227111   -0.42839112  0.4129808  -0.06768638  0.31893918 -0.03199922\n",
      "  -0.15222233 -0.45028237  1.00722713 -0.59338925]\n",
      " [-0.42839112  0.4129808  -0.06768638  0.31893918 -0.03199922 -0.15222233\n",
      "  -0.45028237  1.00722713 -0.59338925  0.04419446]\n",
      " [ 0.4129808  -0.06768638  0.31893918 -0.03199922 -0.15222233 -0.45028237\n",
      "   1.00722713 -0.59338925  0.04419446 -0.26210696]\n",
      " [-0.06768638  0.31893918 -0.03199922 -0.15222233 -0.45028237  1.00722713\n",
      "  -0.59338925  0.04419446 -0.26210696  0.34028722]\n",
      " [ 0.31893918 -0.03199922 -0.15222233 -0.45028237  1.00722713 -0.59338925\n",
      "   0.04419446 -0.26210696  0.34028722  0.26298649]\n",
      " [-0.03199922 -0.15222233 -0.45028237  1.00722713 -0.59338925  0.04419446\n",
      "  -0.26210696  0.34028722  0.26298649 -0.35620461]\n",
      " [-0.15222233 -0.45028237  1.00722713 -0.59338925  0.04419446 -0.26210696\n",
      "   0.34028722  0.26298649 -0.35620461  0.40511674]\n",
      " [-0.45028237  1.00722713 -0.59338925  0.04419446 -0.26210696  0.34028722\n",
      "   0.26298649 -0.35620461  0.40511674 -0.23894722]\n",
      " [ 1.00722713 -0.59338925  0.04419446 -0.26210696  0.34028722  0.26298649\n",
      "  -0.35620461  0.40511674 -0.23894722  0.29517605]\n",
      " [-0.59338925  0.04419446 -0.26210696  0.34028722  0.26298649 -0.35620461\n",
      "   0.40511674 -0.23894722  0.29517605 -0.04617501]\n",
      " [ 0.04419446 -0.26210696  0.34028722  0.26298649 -0.35620461  0.40511674\n",
      "  -0.23894722  0.29517605 -0.04617501  0.37452096]\n",
      " [-0.26210696  0.34028722  0.26298649 -0.35620461  0.40511674 -0.23894722\n",
      "   0.29517605 -0.04617501  0.37452096 -0.46621575]\n",
      " [ 0.34028722  0.26298649 -0.35620461  0.40511674 -0.23894722  0.29517605\n",
      "  -0.04617501  0.37452096 -0.46621575  0.25784629]\n",
      " [ 0.26298649 -0.35620461  0.40511674 -0.23894722  0.29517605 -0.04617501\n",
      "   0.37452096 -0.46621575  0.25784629 -0.00762467]\n",
      " [-0.35620461  0.40511674 -0.23894722  0.29517605 -0.04617501  0.37452096\n",
      "  -0.46621575  0.25784629 -0.00762467  0.25962053]\n",
      " [ 0.40511674 -0.23894722  0.29517605 -0.04617501  0.37452096 -0.46621575\n",
      "   0.25784629 -0.00762467  0.25962053 -0.3322577 ]\n",
      " [-0.23894722  0.29517605 -0.04617501  0.37452096 -0.46621575  0.25784629\n",
      "  -0.00762467  0.25962053 -0.3322577   0.32975684]\n",
      " [ 0.29517605 -0.04617501  0.37452096 -0.46621575  0.25784629 -0.00762467\n",
      "   0.25962053 -0.3322577   0.32975684 -0.09047327]\n",
      " [-0.04617501  0.37452096 -0.46621575  0.25784629 -0.00762467  0.25962053\n",
      "  -0.3322577   0.32975684 -0.09047327  0.08613883]\n",
      " [ 0.37452096 -0.46621575  0.25784629 -0.00762467  0.25962053 -0.3322577\n",
      "   0.32975684 -0.09047327  0.08613883  0.27439112]\n",
      " [-0.46621575  0.25784629 -0.00762467  0.25962053 -0.3322577   0.32975684\n",
      "  -0.09047327  0.08613883  0.27439112 -0.34495293]\n",
      " [ 0.25784629 -0.00762467  0.25962053 -0.3322577   0.32975684 -0.09047327\n",
      "   0.08613883  0.27439112 -0.34495293  0.51474336]\n",
      " [-0.00762467  0.25962053 -0.3322577   0.32975684 -0.09047327  0.08613883\n",
      "   0.27439112 -0.34495293  0.51474336 -0.36108347]\n",
      " [ 0.25962053 -0.3322577   0.32975684 -0.09047327  0.08613883  0.27439112\n",
      "  -0.34495293  0.51474336 -0.36108347  0.20132079]]\n",
      "[[-0.59338925]\n",
      " [ 0.04419446]\n",
      " [-0.26210696]\n",
      " [ 0.34028722]\n",
      " [ 0.26298649]\n",
      " [-0.35620461]\n",
      " [ 0.40511674]\n",
      " [-0.23894722]\n",
      " [ 0.29517605]\n",
      " [-0.04617501]\n",
      " [ 0.37452096]\n",
      " [-0.46621575]\n",
      " [ 0.25784629]\n",
      " [-0.00762467]\n",
      " [ 0.25962053]\n",
      " [-0.3322577 ]\n",
      " [ 0.32975684]\n",
      " [-0.09047327]\n",
      " [ 0.08613883]\n",
      " [ 0.27439112]\n",
      " [-0.34495293]\n",
      " [ 0.51474336]\n",
      " [-0.36108347]\n",
      " [ 0.20132079]\n",
      " [ 0.10692475]]\n",
      "X.shape (13, 10) (12, 10) \n",
      "Y.shape (13, 1) (12, 1)\n"
     ]
    }
   ],
   "source": [
    "#define data set parameters- Univariate forecasting (SINGLE PREDICTOR COLUMN)\n",
    "dataset='shampoo_sales.csv'\n",
    "index_column='Month'\n",
    "target_column='Sales'\n",
    "\n",
    "# set parameters for forecasting\n",
    "lags= 10\n",
    "n_forecast= 10\n",
    "Ntest= 12\n",
    "\n",
    "# read the data set and apply train test split\n",
    "df = pd.read_csv(dataset, index_col=index_column, parse_dates=True)\n",
    "Xtrain, Ytrain, Xtest, Ytest = preprocessing(df, target_column, n_forecast)\n",
    "\n"
   ]
  },
  {
   "cell_type": "code",
   "execution_count": null,
   "metadata": {},
   "outputs": [],
   "source": []
  },
  {
   "cell_type": "code",
   "execution_count": null,
   "metadata": {},
   "outputs": [],
   "source": []
  },
  {
   "cell_type": "code",
   "execution_count": 47,
   "metadata": {},
   "outputs": [
    {
     "ename": "TypeError",
     "evalue": "train_test_split() takes 0 positional arguments but 2 were given",
     "output_type": "error",
     "traceback": [
      "\u001b[0;31m---------------------------------------------------------------------------\u001b[0m",
      "\u001b[0;31mTypeError\u001b[0m                                 Traceback (most recent call last)",
      "\u001b[1;32m/Users/nikitapardeshi/Documents/Time-Series-Analysis/ML models- Airline passengers data/ML_Airline.ipynb Cell 23\u001b[0m in \u001b[0;36m<cell line: 1>\u001b[0;34m()\u001b[0m\n\u001b[0;32m----> <a href='vscode-notebook-cell:/Users/nikitapardeshi/Documents/Time-Series-Analysis/ML%20models-%20Airline%20passengers%20data/ML_Airline.ipynb#X32sZmlsZQ%3D%3D?line=0'>1</a>\u001b[0m Xtrain, Ytrain, Xtest, Ytest\u001b[39m=\u001b[39m train_test_split(df, target_column)\n\u001b[1;32m      <a href='vscode-notebook-cell:/Users/nikitapardeshi/Documents/Time-Series-Analysis/ML%20models-%20Airline%20passengers%20data/ML_Airline.ipynb#X32sZmlsZQ%3D%3D?line=2'>3</a>\u001b[0m \u001b[39mprint\u001b[39m(\u001b[39m\"\u001b[39m\u001b[39mX.shape\u001b[39m\u001b[39m\"\u001b[39m, Xtrain\u001b[39m.\u001b[39mshape, Xtest\u001b[39m.\u001b[39mshape,\u001b[39m\"\u001b[39m\u001b[39m\\n\u001b[39;00m\u001b[39mY.shape\u001b[39m\u001b[39m\"\u001b[39m, Ytrain\u001b[39m.\u001b[39mshape, Ytest\u001b[39m.\u001b[39mshape)\n",
      "\u001b[0;31mTypeError\u001b[0m: train_test_split() takes 0 positional arguments but 2 were given"
     ]
    }
   ],
   "source": [
    "\n",
    "Xtrain, Ytrain, Xtest, Ytest= train_test_split(df, target_column)\n",
    "\n",
    "print(\"X.shape\", Xtrain.shape, Xtest.shape,\"\\nY.shape\", Ytrain.shape, Ytest.shape)"
   ]
  },
  {
   "cell_type": "code",
   "execution_count": null,
   "metadata": {},
   "outputs": [
    {
     "ename": "NameError",
     "evalue": "name 'preprocessing' is not defined",
     "output_type": "error",
     "traceback": [
      "\u001b[0;31m---------------------------------------------------------------------------\u001b[0m",
      "\u001b[0;31mNameError\u001b[0m                                 Traceback (most recent call last)",
      "\u001b[1;32m/Users/nikitapardeshi/Documents/Time-Series-Analysis/ML models- Airline passengers data/ML_Airline.ipynb Cell 19\u001b[0m in \u001b[0;36m<cell line: 8>\u001b[0;34m()\u001b[0m\n\u001b[1;32m      <a href='vscode-notebook-cell:/Users/nikitapardeshi/Documents/Time-Series-Analysis/ML%20models-%20Airline%20passengers%20data/ML_Airline.ipynb#X23sZmlsZQ%3D%3D?line=3'>4</a>\u001b[0m target_column\u001b[39m=\u001b[39m\u001b[39m'\u001b[39m\u001b[39mSales\u001b[39m\u001b[39m'\u001b[39m\n\u001b[1;32m      <a href='vscode-notebook-cell:/Users/nikitapardeshi/Documents/Time-Series-Analysis/ML%20models-%20Airline%20passengers%20data/ML_Airline.ipynb#X23sZmlsZQ%3D%3D?line=6'>7</a>\u001b[0m df \u001b[39m=\u001b[39m pd\u001b[39m.\u001b[39mread_csv(dataset, index_col\u001b[39m=\u001b[39mindex_column, parse_dates\u001b[39m=\u001b[39m\u001b[39mTrue\u001b[39;00m)\n\u001b[0;32m----> <a href='vscode-notebook-cell:/Users/nikitapardeshi/Documents/Time-Series-Analysis/ML%20models-%20Airline%20passengers%20data/ML_Airline.ipynb#X23sZmlsZQ%3D%3D?line=7'>8</a>\u001b[0m preprocessing(df)\n\u001b[1;32m     <a href='vscode-notebook-cell:/Users/nikitapardeshi/Documents/Time-Series-Analysis/ML%20models-%20Airline%20passengers%20data/ML_Airline.ipynb#X23sZmlsZQ%3D%3D?line=10'>11</a>\u001b[0m \u001b[39m#CONVERT TIME SERIES DATA TO A SUPERVISED DATA FRAME\u001b[39;00m\n\u001b[1;32m     <a href='vscode-notebook-cell:/Users/nikitapardeshi/Documents/Time-Series-Analysis/ML%20models-%20Airline%20passengers%20data/ML_Airline.ipynb#X23sZmlsZQ%3D%3D?line=11'>12</a>\u001b[0m \u001b[39m# def time_series_to_supervised(data, n_in=1, n_out=1, dropnan=True): #by default the function takes the previous value at time t-1 and predicts the next prediction at t+1 unless specified. \u001b[39;00m\n\u001b[1;32m     <a href='vscode-notebook-cell:/Users/nikitapardeshi/Documents/Time-Series-Analysis/ML%20models-%20Airline%20passengers%20data/ML_Airline.ipynb#X23sZmlsZQ%3D%3D?line=12'>13</a>\u001b[0m \u001b[39m# \tn_vars = 1 \u001b[39;00m\n\u001b[0;32m   (...)\u001b[0m\n\u001b[1;32m     <a href='vscode-notebook-cell:/Users/nikitapardeshi/Documents/Time-Series-Analysis/ML%20models-%20Airline%20passengers%20data/ML_Airline.ipynb#X23sZmlsZQ%3D%3D?line=41'>42</a>\u001b[0m \n\u001b[1;32m     <a href='vscode-notebook-cell:/Users/nikitapardeshi/Documents/Time-Series-Analysis/ML%20models-%20Airline%20passengers%20data/ML_Airline.ipynb#X23sZmlsZQ%3D%3D?line=42'>43</a>\u001b[0m \u001b[39m# PRE-PROCESSING\u001b[39;00m\n\u001b[1;32m     <a href='vscode-notebook-cell:/Users/nikitapardeshi/Documents/Time-Series-Analysis/ML%20models-%20Airline%20passengers%20data/ML_Airline.ipynb#X23sZmlsZQ%3D%3D?line=43'>44</a>\u001b[0m \u001b[39mdef\u001b[39;00m \u001b[39mpreprocessing\u001b[39m(data_series, lags\u001b[39m=\u001b[39m\u001b[39m1\u001b[39m, n_forecast\u001b[39m=\u001b[39m \u001b[39m1\u001b[39m): \u001b[39m#default values for the lags and n_forecast is set to 1\u001b[39;00m\n\u001b[1;32m     <a href='vscode-notebook-cell:/Users/nikitapardeshi/Documents/Time-Series-Analysis/ML%20models-%20Airline%20passengers%20data/ML_Airline.ipynb#X23sZmlsZQ%3D%3D?line=44'>45</a>\u001b[0m     \n\u001b[1;32m     <a href='vscode-notebook-cell:/Users/nikitapardeshi/Documents/Time-Series-Analysis/ML%20models-%20Airline%20passengers%20data/ML_Airline.ipynb#X23sZmlsZQ%3D%3D?line=45'>46</a>\u001b[0m     \u001b[39m#taking log difference of the time series \u001b[39;00m\n",
      "\u001b[0;31mNameError\u001b[0m: name 'preprocessing' is not defined"
     ]
    }
   ],
   "source": [
    "# Read the airlines data frame and set index as Month\n",
    "dataset='shampoo_sales.csv'\n",
    "index_column='Month'\n",
    "target_column='Sales'\n",
    "\n",
    "\n",
    "df = pd.read_csv(dataset, index_col=index_column, parse_dates=True)\n",
    "preprocessing(df, target_column)\n",
    "\n",
    "\n",
    "#CONVERT TIME SERIES DATA TO A SUPERVISED DATA FRAME\n",
    "# def time_series_to_supervised(data, n_in=1, n_out=1, dropnan=True): #by default the function takes the previous value at time t-1 and predicts the next prediction at t+1 unless specified. \n",
    "# \tn_vars = 1 \n",
    "# \tdf = pd.DataFrame(data)\n",
    "# \tcols, col_names= list(), list()\n",
    "\t\n",
    "# \t# input sequence (t-n, ... t-1)\n",
    "# \tfor i in range(n_in, 0, -1):\n",
    "# \t\tcols.append(df.shift(i))\n",
    "# \t\tcol_names += [('x%d(t-%d)' % (j+1, i)) for j in range(n_vars)]\n",
    "\t\t\n",
    "# \t# forecast sequence (t, t+1, ... t+n)\n",
    "# \tfor i in range(0, n_out):\n",
    "\t\t\n",
    "# \t\tcols.append(df.shift(-i))\n",
    "# \t\tif i == 0:\n",
    "# \t\t\tcol_names += [('y%d(t)' % (j+1)) for j in range(n_vars)]\n",
    "# \t\telse:\n",
    "# \t\t\tcol_names += [('y%d(t+%d)' % (j+1, i)) for j in range(n_vars)]\n",
    "\t\n",
    "# \t# put it all together\n",
    "# \tagg = pd.concat(cols, axis=1)\n",
    "# \tagg.columns= col_names\n",
    "\t\n",
    "\n",
    "# \t# drop rows with NaN values\n",
    "# \tif dropnan:\n",
    "# \t\tagg.dropna(inplace=True)\n",
    "\n",
    "# \treturn agg\n",
    "\n",
    "\n",
    "# PRE-PROCESSING\n",
    "def preprocessing(data_series, lags=1, n_forecast= 1): #default values for the lags and n_forecast is set to 1\n",
    "    \n",
    "    #taking log difference of the time series \n",
    "    data_series['Log'+target_column] = np.log(data_series[target_column])\n",
    "    data_series['DiffLog'+target_column] = data_series['Log'+target_column].diff()\n",
    "    data_series.head()\n",
    "\n",
    "    #we will work with the differenced time series data\n",
    "    series= data_series['DiffLog'+target_column].to_numpy()\n",
    "\n",
    "    supervised_df = time_series_to_supervised(series, lags, n_forecast) #second parameter specifies the number of inputs as X (t-1, t-2,.... t-lags)\n",
    "\n",
    "    # Setting the input data \n",
    "    X= supervised_df.iloc[:, 0:lags].to_numpy()\n",
    "\n",
    "    #building an array for the target variable from the above supervised time series data frame \n",
    "    Y= supervised_df.iloc[:, lags:].to_numpy()\n",
    "\n",
    "    #divide the data set into train and test sets\n",
    "    Xtrain, Ytrain = X[:-Ntest], Y[:-Ntest]\n",
    "    Xtest, Ytest = X[-Ntest:], Y[-Ntest:]\n",
    "\n",
    "    print(\"X.shape\", Xtrain.shape, Xtest.shape,\"\\nY.shape\", Ytrain.shape, Ytest.shape)\n",
    "    return Xtrain, Ytrain, Xtest, Ytest\n",
    "\n",
    "\n",
    "# # MODEL PREDICTIONS\n",
    "# def N_step_forecast(model):\n",
    "#     model_results={}\n",
    "#     result_df=pd.DataFrame()\n",
    "\n",
    "#     if isinstance(model, list):\n",
    "#         model_names=[]\n",
    "#         train_r2=[]\n",
    "#         test_r2=[]\n",
    "\n",
    "#         #Reverse the differencing operation to get the data back to original format\n",
    "#         df['ShiftLogPassengers'] = df['LogPassengers'].shift(1)\n",
    "#         prev = df['ShiftLogPassengers']\n",
    "\n",
    "#         for model_n in model:\n",
    "#             model_n.fit(Xtrain, Ytrain)\n",
    "\n",
    "#             # 1-step forecast\n",
    "#             model_name = type(model_n).__name__\n",
    "#             model_names.append(model_name)\n",
    "#             train_r2.append(model_n.score(Xtrain, Ytrain))\n",
    "#             test_r2.append(model_n.score(Xtest, Ytest))\n",
    "        \n",
    "#             df.loc[train_idx, model_name+'_'+n_forecast+'step_train'] = prev[train_idx] + model.predict(Xtrain)\n",
    "#             df.loc[test_idx, model_name+'_'+n_forecast+'step_train'] = prev[test_idx] + model.predict(Xtest)\n",
    "\n",
    "#             # plot 1-step forecast\n",
    "#             df[['LogPassengers', model_name+'_'+n_forecast+'step_train', model_name+'_'+n_forecast+'step_train']].plot(figsize=(15, 5))\n",
    "\n",
    "    \n",
    "#     else:\n",
    "#         model.fit(Xtrain, Ytrain)\n",
    "\n",
    "#         # N-step forecast\n",
    "#         model_name = type(model).__name__\n",
    "#         model_names.append(model_name)\n",
    "#         train_r2.append(model_n.score(Xtrain, Ytrain))\n",
    "#         test_r2.append(model_n.score(Xtest, Ytest))\n",
    "\n",
    "#         df.loc[train_idx, model_name+'_'+n_forecast+'step_train'] = prev[train_idx] + model.predict(Xtrain)\n",
    "#         df.loc[test_idx, model_name+'_'+n_forecast+'step_train'] = prev[test_idx] + model.predict(Xtest)\n",
    "\n",
    "#         # plot 1-step forecast\n",
    "#         df[['LogPassengers', model_name+'_'+n_forecast+'step_train', model_name+'_'+n_forecast+'step_train']].plot(figsize=(15, 5))\n",
    "    \n",
    "\n",
    "#     model_results= {'Model Name': model_names, 'Train Accuracy': train_r2, \n",
    "#         'Test Accuracy': test_r2}\n",
    "\n",
    "#     #create data frame to display results\n",
    "#     results_agg= pd.DataFrame(model_results)\n",
    "#     print(results_agg)\n",
    "    \n",
    "\n",
    "# #defining parameters for one step forecast\n",
    "# lags= 12\n",
    "# n_forecast= 30\n",
    "\n",
    "# N_step_forecast([LinearRegression(), SVR(), RandomForestRegressor()])\n"
   ]
  },
  {
   "cell_type": "markdown",
   "metadata": {},
   "source": [
    "#### We can see that the Random Forest model has performed better than the rest. But the test accuracy (for unseen data) for Random Forest is poor as compared to its train accuracy. Let's try predicting values for multiple time steps in the future. "
   ]
  },
  {
   "cell_type": "markdown",
   "metadata": {},
   "source": [
    "## Multi-Step or Sequence Forecasting\n",
    "\n",
    "##### The above function time_series_to_supervised() can be used for multi-step forecasting. The n_out i.e. specified number of outputs in the future/ predictions changes. "
   ]
  },
  {
   "cell_type": "code",
   "execution_count": null,
   "metadata": {},
   "outputs": [
    {
     "name": "stdout",
     "output_type": "stream",
     "text": [
      "    x1(t-10)   x1(t-9)   x1(t-8)   x1(t-7)   x1(t-6)   x1(t-5)   x1(t-4)  \\\n",
      "11  0.052186  0.112117 -0.022990 -0.064022  0.109484  0.091937  0.000000   \n",
      "12  0.112117 -0.022990 -0.064022  0.109484  0.091937  0.000000 -0.084557   \n",
      "13 -0.022990 -0.064022  0.109484  0.091937  0.000000 -0.084557 -0.133531   \n",
      "14 -0.064022  0.109484  0.091937  0.000000 -0.084557 -0.133531 -0.134733   \n",
      "15  0.109484  0.091937  0.000000 -0.084557 -0.133531 -0.134733  0.126294   \n",
      "\n",
      "     x1(t-3)   x1(t-2)   x1(t-1)     y1(t)   y1(t+1)   y1(t+2)   y1(t+3)  \\\n",
      "11 -0.084557 -0.133531 -0.134733  0.126294 -0.025752  0.091350  0.112478   \n",
      "12 -0.133531 -0.134733  0.126294 -0.025752  0.091350  0.112478 -0.043485   \n",
      "13 -0.134733  0.126294 -0.025752  0.091350  0.112478 -0.043485 -0.076961   \n",
      "14  0.126294 -0.025752  0.091350  0.112478 -0.043485 -0.076961  0.175633   \n",
      "15 -0.025752  0.091350  0.112478 -0.043485 -0.076961  0.175633  0.131852   \n",
      "\n",
      "     y1(t+4)   y1(t+5)   y1(t+6)   y1(t+7)   y1(t+8)   y1(t+9)  \n",
      "11 -0.043485 -0.076961  0.175633  0.131852  0.000000 -0.073203  \n",
      "12 -0.076961  0.175633  0.131852  0.000000 -0.073203 -0.172246  \n",
      "13  0.175633  0.131852  0.000000 -0.073203 -0.172246 -0.154151  \n",
      "14  0.131852  0.000000 -0.073203 -0.172246 -0.154151  0.205444  \n",
      "15  0.000000 -0.073203 -0.172246 -0.154151  0.205444  0.035091  \n"
     ]
    }
   ],
   "source": [
    "#defining parameters for one step forecast\n",
    "n_forecast= 10\n",
    "supervised_df = time_series_to_supervised(series, lags, n_forecast) #second parameter specifies the number of inputs as X (t-1, t-2,.... t-lags)\n",
    "\n",
    "# Setting the input data sets and target sets\n",
    "X= supervised_df.iloc[:, 0:lags].to_numpy()\n",
    "\n",
    "#building an array for the target variable from the above supervised time series data frame \n",
    "Y= supervised_df.iloc[:, lags:].to_numpy()\n"
   ]
  },
  {
   "cell_type": "code",
   "execution_count": null,
   "metadata": {},
   "outputs": [
    {
     "name": "stdout",
     "output_type": "stream",
     "text": [
      "X.shape (112, 10) (12, 10) \n",
      "Y.shape (112, 10) (12, 10)\n"
     ]
    },
    {
     "ename": "ValueError",
     "evalue": "y should be a 1d array, got an array of shape (112, 10) instead.",
     "output_type": "error",
     "traceback": [
      "\u001b[0;31m---------------------------------------------------------------------------\u001b[0m",
      "\u001b[0;31mValueError\u001b[0m                                Traceback (most recent call last)",
      "\u001b[1;32m/Users/nikitapardeshi/Documents/Time-Series-Analysis/ML models- Airline passengers data/ML_Airline.ipynb Cell 28\u001b[0m in \u001b[0;36m<cell line: 9>\u001b[0;34m()\u001b[0m\n\u001b[1;32m      <a href='vscode-notebook-cell:/Users/nikitapardeshi/Documents/Time-Series-Analysis/ML%20models-%20Airline%20passengers%20data/ML_Airline.ipynb#X40sZmlsZQ%3D%3D?line=4'>5</a>\u001b[0m \u001b[39mprint\u001b[39m(\u001b[39m\"\u001b[39m\u001b[39mX.shape\u001b[39m\u001b[39m\"\u001b[39m, Xtrain\u001b[39m.\u001b[39mshape, Xtest\u001b[39m.\u001b[39mshape,\u001b[39m\"\u001b[39m\u001b[39m\\n\u001b[39;00m\u001b[39mY.shape\u001b[39m\u001b[39m\"\u001b[39m, Ytrain\u001b[39m.\u001b[39mshape, Ytest\u001b[39m.\u001b[39mshape)\n\u001b[1;32m      <a href='vscode-notebook-cell:/Users/nikitapardeshi/Documents/Time-Series-Analysis/ML%20models-%20Airline%20passengers%20data/ML_Airline.ipynb#X40sZmlsZQ%3D%3D?line=7'>8</a>\u001b[0m lr \u001b[39m=\u001b[39mSVR()\n\u001b[0;32m----> <a href='vscode-notebook-cell:/Users/nikitapardeshi/Documents/Time-Series-Analysis/ML%20models-%20Airline%20passengers%20data/ML_Airline.ipynb#X40sZmlsZQ%3D%3D?line=8'>9</a>\u001b[0m lr\u001b[39m.\u001b[39;49mfit(Xtrain, Ytrain)\n\u001b[1;32m     <a href='vscode-notebook-cell:/Users/nikitapardeshi/Documents/Time-Series-Analysis/ML%20models-%20Airline%20passengers%20data/ML_Airline.ipynb#X40sZmlsZQ%3D%3D?line=10'>11</a>\u001b[0m \u001b[39mprint\u001b[39m(\u001b[39m'\u001b[39m\u001b[39mTrain accuracy: \u001b[39m\u001b[39m'\u001b[39m, lr\u001b[39m.\u001b[39mscore(Xtrain, Ytrain))\n\u001b[1;32m     <a href='vscode-notebook-cell:/Users/nikitapardeshi/Documents/Time-Series-Analysis/ML%20models-%20Airline%20passengers%20data/ML_Airline.ipynb#X40sZmlsZQ%3D%3D?line=11'>12</a>\u001b[0m \u001b[39mprint\u001b[39m(\u001b[39m'\u001b[39m\u001b[39mTest accuracy: \u001b[39m\u001b[39m'\u001b[39m, lr\u001b[39m.\u001b[39mscore(Xtest, Ytest))\n",
      "File \u001b[0;32m/Library/Frameworks/Python.framework/Versions/3.10/lib/python3.10/site-packages/sklearn/svm/_base.py:173\u001b[0m, in \u001b[0;36mBaseLibSVM.fit\u001b[0;34m(self, X, y, sample_weight)\u001b[0m\n\u001b[1;32m    171\u001b[0m     check_consistent_length(X, y)\n\u001b[1;32m    172\u001b[0m \u001b[39melse\u001b[39;00m:\n\u001b[0;32m--> 173\u001b[0m     X, y \u001b[39m=\u001b[39m \u001b[39mself\u001b[39;49m\u001b[39m.\u001b[39;49m_validate_data(\n\u001b[1;32m    174\u001b[0m         X,\n\u001b[1;32m    175\u001b[0m         y,\n\u001b[1;32m    176\u001b[0m         dtype\u001b[39m=\u001b[39;49mnp\u001b[39m.\u001b[39;49mfloat64,\n\u001b[1;32m    177\u001b[0m         order\u001b[39m=\u001b[39;49m\u001b[39m\"\u001b[39;49m\u001b[39mC\u001b[39;49m\u001b[39m\"\u001b[39;49m,\n\u001b[1;32m    178\u001b[0m         accept_sparse\u001b[39m=\u001b[39;49m\u001b[39m\"\u001b[39;49m\u001b[39mcsr\u001b[39;49m\u001b[39m\"\u001b[39;49m,\n\u001b[1;32m    179\u001b[0m         accept_large_sparse\u001b[39m=\u001b[39;49m\u001b[39mFalse\u001b[39;49;00m,\n\u001b[1;32m    180\u001b[0m     )\n\u001b[1;32m    182\u001b[0m y \u001b[39m=\u001b[39m \u001b[39mself\u001b[39m\u001b[39m.\u001b[39m_validate_targets(y)\n\u001b[1;32m    184\u001b[0m sample_weight \u001b[39m=\u001b[39m np\u001b[39m.\u001b[39masarray(\n\u001b[1;32m    185\u001b[0m     [] \u001b[39mif\u001b[39;00m sample_weight \u001b[39mis\u001b[39;00m \u001b[39mNone\u001b[39;00m \u001b[39melse\u001b[39;00m sample_weight, dtype\u001b[39m=\u001b[39mnp\u001b[39m.\u001b[39mfloat64\n\u001b[1;32m    186\u001b[0m )\n",
      "File \u001b[0;32m/Library/Frameworks/Python.framework/Versions/3.10/lib/python3.10/site-packages/sklearn/base.py:596\u001b[0m, in \u001b[0;36mBaseEstimator._validate_data\u001b[0;34m(self, X, y, reset, validate_separately, **check_params)\u001b[0m\n\u001b[1;32m    594\u001b[0m         y \u001b[39m=\u001b[39m check_array(y, input_name\u001b[39m=\u001b[39m\u001b[39m\"\u001b[39m\u001b[39my\u001b[39m\u001b[39m\"\u001b[39m, \u001b[39m*\u001b[39m\u001b[39m*\u001b[39mcheck_y_params)\n\u001b[1;32m    595\u001b[0m     \u001b[39melse\u001b[39;00m:\n\u001b[0;32m--> 596\u001b[0m         X, y \u001b[39m=\u001b[39m check_X_y(X, y, \u001b[39m*\u001b[39;49m\u001b[39m*\u001b[39;49mcheck_params)\n\u001b[1;32m    597\u001b[0m     out \u001b[39m=\u001b[39m X, y\n\u001b[1;32m    599\u001b[0m \u001b[39mif\u001b[39;00m \u001b[39mnot\u001b[39;00m no_val_X \u001b[39mand\u001b[39;00m check_params\u001b[39m.\u001b[39mget(\u001b[39m\"\u001b[39m\u001b[39mensure_2d\u001b[39m\u001b[39m\"\u001b[39m, \u001b[39mTrue\u001b[39;00m):\n",
      "File \u001b[0;32m/Library/Frameworks/Python.framework/Versions/3.10/lib/python3.10/site-packages/sklearn/utils/validation.py:1090\u001b[0m, in \u001b[0;36mcheck_X_y\u001b[0;34m(X, y, accept_sparse, accept_large_sparse, dtype, order, copy, force_all_finite, ensure_2d, allow_nd, multi_output, ensure_min_samples, ensure_min_features, y_numeric, estimator)\u001b[0m\n\u001b[1;32m   1070\u001b[0m     \u001b[39mraise\u001b[39;00m \u001b[39mValueError\u001b[39;00m(\n\u001b[1;32m   1071\u001b[0m         \u001b[39mf\u001b[39m\u001b[39m\"\u001b[39m\u001b[39m{\u001b[39;00mestimator_name\u001b[39m}\u001b[39;00m\u001b[39m requires y to be passed, but the target y is None\u001b[39m\u001b[39m\"\u001b[39m\n\u001b[1;32m   1072\u001b[0m     )\n\u001b[1;32m   1074\u001b[0m X \u001b[39m=\u001b[39m check_array(\n\u001b[1;32m   1075\u001b[0m     X,\n\u001b[1;32m   1076\u001b[0m     accept_sparse\u001b[39m=\u001b[39maccept_sparse,\n\u001b[0;32m   (...)\u001b[0m\n\u001b[1;32m   1087\u001b[0m     input_name\u001b[39m=\u001b[39m\u001b[39m\"\u001b[39m\u001b[39mX\u001b[39m\u001b[39m\"\u001b[39m,\n\u001b[1;32m   1088\u001b[0m )\n\u001b[0;32m-> 1090\u001b[0m y \u001b[39m=\u001b[39m _check_y(y, multi_output\u001b[39m=\u001b[39;49mmulti_output, y_numeric\u001b[39m=\u001b[39;49my_numeric, estimator\u001b[39m=\u001b[39;49mestimator)\n\u001b[1;32m   1092\u001b[0m check_consistent_length(X, y)\n\u001b[1;32m   1094\u001b[0m \u001b[39mreturn\u001b[39;00m X, y\n",
      "File \u001b[0;32m/Library/Frameworks/Python.framework/Versions/3.10/lib/python3.10/site-packages/sklearn/utils/validation.py:1111\u001b[0m, in \u001b[0;36m_check_y\u001b[0;34m(y, multi_output, y_numeric, estimator)\u001b[0m\n\u001b[1;32m   1109\u001b[0m \u001b[39melse\u001b[39;00m:\n\u001b[1;32m   1110\u001b[0m     estimator_name \u001b[39m=\u001b[39m _check_estimator_name(estimator)\n\u001b[0;32m-> 1111\u001b[0m     y \u001b[39m=\u001b[39m column_or_1d(y, warn\u001b[39m=\u001b[39;49m\u001b[39mTrue\u001b[39;49;00m)\n\u001b[1;32m   1112\u001b[0m     _assert_all_finite(y, input_name\u001b[39m=\u001b[39m\u001b[39m\"\u001b[39m\u001b[39my\u001b[39m\u001b[39m\"\u001b[39m, estimator_name\u001b[39m=\u001b[39mestimator_name)\n\u001b[1;32m   1113\u001b[0m     _ensure_no_complex_data(y)\n",
      "File \u001b[0;32m/Library/Frameworks/Python.framework/Versions/3.10/lib/python3.10/site-packages/sklearn/utils/validation.py:1156\u001b[0m, in \u001b[0;36mcolumn_or_1d\u001b[0;34m(y, warn)\u001b[0m\n\u001b[1;32m   1147\u001b[0m         warnings\u001b[39m.\u001b[39mwarn(\n\u001b[1;32m   1148\u001b[0m             \u001b[39m\"\u001b[39m\u001b[39mA column-vector y was passed when a 1d array was\u001b[39m\u001b[39m\"\u001b[39m\n\u001b[1;32m   1149\u001b[0m             \u001b[39m\"\u001b[39m\u001b[39m expected. Please change the shape of y to \u001b[39m\u001b[39m\"\u001b[39m\n\u001b[0;32m   (...)\u001b[0m\n\u001b[1;32m   1152\u001b[0m             stacklevel\u001b[39m=\u001b[39m\u001b[39m2\u001b[39m,\n\u001b[1;32m   1153\u001b[0m         )\n\u001b[1;32m   1154\u001b[0m     \u001b[39mreturn\u001b[39;00m np\u001b[39m.\u001b[39mravel(y)\n\u001b[0;32m-> 1156\u001b[0m \u001b[39mraise\u001b[39;00m \u001b[39mValueError\u001b[39;00m(\n\u001b[1;32m   1157\u001b[0m     \u001b[39m\"\u001b[39m\u001b[39my should be a 1d array, got an array of shape \u001b[39m\u001b[39m{}\u001b[39;00m\u001b[39m instead.\u001b[39m\u001b[39m\"\u001b[39m\u001b[39m.\u001b[39mformat(shape)\n\u001b[1;32m   1158\u001b[0m )\n",
      "\u001b[0;31mValueError\u001b[0m: y should be a 1d array, got an array of shape (112, 10) instead."
     ]
    }
   ],
   "source": [
    "#divide the data set into train and test sets\n",
    "Xtrain, Ytrain = X[:-Ntest], Y[:-Ntest]\n",
    "Xtest, Ytest = X[-Ntest:], Y[-Ntest:]\n",
    "\n",
    "print(\"X.shape\", Xtrain.shape, Xtest.shape,\"\\nY.shape\", Ytrain.shape, Ytest.shape)\n",
    "\n",
    "\n",
    "lr =()\n",
    "lr.fit(Xtrain, Ytrain)\n",
    "\n",
    "print('Train accuracy: ', lr.score(Xtrain, Ytrain))\n",
    "print('Test accuracy: ', lr.score(Xtest, Ytest))"
   ]
  }
 ],
 "metadata": {
  "kernelspec": {
   "display_name": "Python 3.10.5 64-bit",
   "language": "python",
   "name": "python3"
  },
  "language_info": {
   "codemirror_mode": {
    "name": "ipython",
    "version": 3
   },
   "file_extension": ".py",
   "mimetype": "text/x-python",
   "name": "python",
   "nbconvert_exporter": "python",
   "pygments_lexer": "ipython3",
   "version": "3.10.5"
  },
  "orig_nbformat": 4,
  "vscode": {
   "interpreter": {
    "hash": "aee8b7b246df8f9039afb4144a1f6fd8d2ca17a180786b69acc140d282b71a49"
   }
  }
 },
 "nbformat": 4,
 "nbformat_minor": 2
}
